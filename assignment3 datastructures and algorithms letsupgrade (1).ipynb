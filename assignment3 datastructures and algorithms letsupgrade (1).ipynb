{
 "cells": [
  {
   "cell_type": "code",
   "execution_count": 4,
   "metadata": {},
   "outputs": [
    {
     "name": "stdout",
     "output_type": "stream",
     "text": [
      "enter first number15\n",
      "enter second number25\n",
      "sum is 40\n"
     ]
    }
   ],
   "source": [
    "#adding two numbers using class and objects\n",
    "class test:\n",
    "    def findsum(self,a,b):\n",
    "        s=a+b\n",
    "        return s\n",
    "    \n",
    "    \n",
    "a=int(input(\"enter first number\"))\n",
    "b=int(input(\"enter second number\"))\n",
    "obj=test()\n",
    "s=obj.findsum(a,b)\n",
    "print(\"sum is\",s)"
   ]
  },
  {
   "cell_type": "code",
   "execution_count": 7,
   "metadata": {},
   "outputs": [
    {
     "name": "stdout",
     "output_type": "stream",
     "text": [
      "enter a15\n",
      "enter b25\n",
      "a after swap 25\n",
      "b after swap 15\n"
     ]
    }
   ],
   "source": [
    "#swapping \n",
    "def swap(a,b):\n",
    "    a=a+b\n",
    "    b=a-b\n",
    "    a=a-b\n",
    "    print(\"a after swap\",a)\n",
    "    print(\"b after swap\",b)\n",
    "    \n",
    "a= int(input(\"enter a\"))\n",
    "b=int(input(\"enter b\"))\n",
    "swap(a,b)"
   ]
  },
  {
   "cell_type": "code",
   "execution_count": null,
   "metadata": {},
   "outputs": [],
   "source": []
  }
 ],
 "metadata": {
  "kernelspec": {
   "display_name": "Python 3",
   "language": "python",
   "name": "python3"
  },
  "language_info": {
   "codemirror_mode": {
    "name": "ipython",
    "version": 3
   },
   "file_extension": ".py",
   "mimetype": "text/x-python",
   "name": "python",
   "nbconvert_exporter": "python",
   "pygments_lexer": "ipython3",
   "version": "3.8.3"
  }
 },
 "nbformat": 4,
 "nbformat_minor": 4
}
