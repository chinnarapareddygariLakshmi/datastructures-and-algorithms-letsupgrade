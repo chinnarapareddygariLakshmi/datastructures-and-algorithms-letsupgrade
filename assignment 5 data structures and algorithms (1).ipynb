{
 "cells": [
  {
   "cell_type": "code",
   "execution_count": 22,
   "metadata": {},
   "outputs": [
    {
     "name": "stdout",
     "output_type": "stream",
     "text": [
      "sorted array\n"
     ]
    }
   ],
   "source": [
    "#selection sort algorithm \n",
    "import sys\n",
    "A=[64,25,12,22,11]\n",
    "for i in range(len(A)):\n",
    "    min_idx=i\n",
    "    for j in range(i+1,len(A)):\n",
    "        if A[min_idx]>A[j]:\n",
    "            min_idx=j\n",
    "    A[i],A[min_idx]=A[min_idx],A[i]\n",
    "print(\"sorted array\")\n"
   ]
  },
  {
   "cell_type": "code",
   "execution_count": 25,
   "metadata": {},
   "outputs": [
    {
     "name": "stdout",
     "output_type": "stream",
     "text": [
      "10pushed to stack\n",
      "20pushed to stack\n",
      "30pushed to stack\n",
      "30popped from stack\n"
     ]
    }
   ],
   "source": [
    "#pop operation on stack\n",
    "from sys import maxsize\n",
    "def createStack():\n",
    "    stack=[]\n",
    "    return stack\n",
    "def isEmpty(stack):\n",
    "    return len(stack)==0\n",
    "def push(stack,item):\n",
    "    stack.append(item)\n",
    "    print(item+\"pushed to stack\")\n",
    "def pop(stack):\n",
    "    if (isEmpty(stack)):\n",
    "        return str(-maxsize -1)\n",
    "    return stack.pop()\n",
    "def peek(stack):\n",
    "    if(isEmpty(stack)):\n",
    "        return str(-maxsize -1)\n",
    "    return stack[len(stack)-1]\n",
    "stack=createStack()\n",
    "push(stack,str(10))\n",
    "push(stack,str(20))\n",
    "push(stack,str(30))\n",
    "print(pop(stack)+\"popped from stack\")\n"
   ]
  },
  {
   "cell_type": "code",
   "execution_count": 26,
   "metadata": {},
   "outputs": [
    {
     "name": "stdout",
     "output_type": "stream",
     "text": [
      "deque(['a', 'b', 'c'])\n",
      "\n",
      "elements dequed from queue\n",
      "a\n",
      "b\n",
      "c\n",
      "\n",
      " queue after removing elements\n",
      "deque([])\n"
     ]
    }
   ],
   "source": [
    "#dequeue on queue\n",
    "from collections import deque\n",
    "q=deque()\n",
    "q.append('a')\n",
    "q.append('b')\n",
    "q.append('c')\n",
    "print(q)\n",
    "print(\"\\nelements dequed from queue\")\n",
    "print(q.popleft())\n",
    "print(q.popleft())\n",
    "print(q.popleft())\n",
    "print(\"\\n queue after removing elements\")\n",
    "print(q)"
   ]
  },
  {
   "cell_type": "code",
   "execution_count": null,
   "metadata": {},
   "outputs": [],
   "source": []
  }
 ],
 "metadata": {
  "kernelspec": {
   "display_name": "Python 3",
   "language": "python",
   "name": "python3"
  },
  "language_info": {
   "codemirror_mode": {
    "name": "ipython",
    "version": 3
   },
   "file_extension": ".py",
   "mimetype": "text/x-python",
   "name": "python",
   "nbconvert_exporter": "python",
   "pygments_lexer": "ipython3",
   "version": "3.8.3"
  }
 },
 "nbformat": 4,
 "nbformat_minor": 4
}
